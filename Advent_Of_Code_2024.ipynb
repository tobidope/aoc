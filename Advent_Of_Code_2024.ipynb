{
  "nbformat": 4,
  "nbformat_minor": 0,
  "metadata": {
    "colab": {
      "provenance": [],
      "mount_file_id": "1ndUnm4o8RrliAs_mXQJfRskUEjjuYdzE",
      "authorship_tag": "ABX9TyNvmypQmoZaoWcU2MwCw0Y+",
      "include_colab_link": true
    },
    "kernelspec": {
      "name": "python3",
      "display_name": "Python 3"
    },
    "language_info": {
      "name": "python"
    }
  },
  "cells": [
    {
      "cell_type": "markdown",
      "metadata": {
        "id": "view-in-github",
        "colab_type": "text"
      },
      "source": [
        "<a href=\"https://colab.research.google.com/github/tobidope/aoc/blob/master/Advent_Of_Code_2024.ipynb\" target=\"_parent\"><img src=\"https://colab.research.google.com/assets/colab-badge.svg\" alt=\"Open In Colab\"/></a>"
      ]
    },
    {
      "cell_type": "code",
      "source": [
        "!pip install advent-of-code-data\n",
        "import aocd\n",
        "import os\n",
        "from google.colab import userdata\n",
        "os.environ[\"AOC_SESSION\"] = userdata.get('AOC_SESSION')"
      ],
      "metadata": {
        "id": "zMJxwLHDqDvk",
        "colab": {
          "base_uri": "https://localhost:8080/"
        },
        "outputId": "60e52be5-970e-413c-dc7f-3b40e26448e5"
      },
      "execution_count": 32,
      "outputs": [
        {
          "output_type": "stream",
          "name": "stdout",
          "text": [
            "Requirement already satisfied: advent-of-code-data in /usr/local/lib/python3.10/dist-packages (2.0.4)\n",
            "Requirement already satisfied: beautifulsoup4 in /usr/local/lib/python3.10/dist-packages (from advent-of-code-data) (4.12.3)\n",
            "Requirement already satisfied: pebble in /usr/local/lib/python3.10/dist-packages (from advent-of-code-data) (5.1.0)\n",
            "Requirement already satisfied: urllib3 in /usr/local/lib/python3.10/dist-packages (from advent-of-code-data) (2.2.3)\n",
            "Requirement already satisfied: aocd-example-parser>=2023.2 in /usr/local/lib/python3.10/dist-packages (from advent-of-code-data) (2023.12.20)\n",
            "Requirement already satisfied: soupsieve>1.2 in /usr/local/lib/python3.10/dist-packages (from beautifulsoup4->advent-of-code-data) (2.6)\n"
          ]
        }
      ]
    },
    {
      "cell_type": "markdown",
      "source": [
        "# Day 1"
      ],
      "metadata": {
        "id": "jdPBC9Y03zth"
      }
    },
    {
      "cell_type": "code",
      "execution_count": null,
      "metadata": {
        "id": "6K9w9GbWxDgn",
        "colab": {
          "base_uri": "https://localhost:8080/"
        },
        "outputId": "66b3275d-95e1-4fbe-cc69-a3b0e473b994"
      },
      "outputs": [
        {
          "output_type": "execute_result",
          "data": {
            "text/plain": [
              "1660292"
            ]
          },
          "metadata": {},
          "execution_count": 2
        }
      ],
      "source": [
        "def day1_1() -> int:\n",
        "  data = aocd.get_data(day=1, year=2024).splitlines()\n",
        "  c1, c2 = [], []\n",
        "  for line in data:\n",
        "    w = line.split()\n",
        "    c1.append(int(w[0]))\n",
        "    c2.append(int(w[1]))\n",
        "  c1.sort()\n",
        "  c2.sort()\n",
        "\n",
        "  sum = 0\n",
        "  for n1, n2 in zip(c1, c2):\n",
        "    sum += abs(n1-n2)\n",
        "\n",
        "  return sum\n",
        "day1_1()"
      ]
    },
    {
      "cell_type": "code",
      "source": [
        "aocd.submit(day1_1(), day=1, year=2024, part=\"a\")"
      ],
      "metadata": {
        "colab": {
          "base_uri": "https://localhost:8080/"
        },
        "id": "0FQby12WSoR2",
        "outputId": "ce108cc5-e3a8-46fc-cfc7-af559ed4c1b9"
      },
      "execution_count": null,
      "outputs": [
        {
          "output_type": "stream",
          "name": "stdout",
          "text": [
            "Part a already solved with same answer: 1660292\n"
          ]
        }
      ]
    },
    {
      "cell_type": "code",
      "source": [
        "from collections import Counter\n",
        "def day1_2() -> int:\n",
        "  data = aocd.get_data(day=1, year=2024).splitlines()\n",
        "  c1, c2 = [], []\n",
        "  for line in data:\n",
        "    w = line.split()\n",
        "    c1.append(int(w[0]))\n",
        "    c2.append(int(w[1]))\n",
        "  c1.sort()\n",
        "  c2.sort()\n",
        "  counts = Counter(c2)\n",
        "\n",
        "  sum = 0\n",
        "  for n in c1:\n",
        "    sum += n * counts[n]\n",
        "  return sum\n",
        "\n",
        "day1_2()"
      ],
      "metadata": {
        "colab": {
          "base_uri": "https://localhost:8080/"
        },
        "id": "D49wToqS2cqO",
        "outputId": "a60e8563-c57f-4839-824b-2c79f2770790"
      },
      "execution_count": null,
      "outputs": [
        {
          "output_type": "execute_result",
          "data": {
            "text/plain": [
              "22776016"
            ]
          },
          "metadata": {},
          "execution_count": 3
        }
      ]
    },
    {
      "cell_type": "code",
      "source": [
        "aocd.submit(day1_2(), day=1, year=2024)"
      ],
      "metadata": {
        "colab": {
          "base_uri": "https://localhost:8080/"
        },
        "id": "G0xuam58SeIC",
        "outputId": "1419647e-87ce-4219-bd09-5f0168be5aeb"
      },
      "execution_count": null,
      "outputs": [
        {
          "output_type": "stream",
          "name": "stderr",
          "text": [
            "WARNING:aocd.post:answer a: 1660292\n",
            "WARNING:aocd.post:submitting for part b (part a is already completed)\n"
          ]
        },
        {
          "output_type": "stream",
          "name": "stdout",
          "text": [
            "Part b already solved with same answer: 22776016\n"
          ]
        }
      ]
    },
    {
      "cell_type": "markdown",
      "source": [
        "# Day 2"
      ],
      "metadata": {
        "id": "bAA5Mz1u34o8"
      }
    },
    {
      "cell_type": "code",
      "source": [
        "from math import copysign\n",
        "def is_report_safe(report: list[int]) -> bool:\n",
        "  current_sign = copysign(1, report[0]-report[1])\n",
        "  for i, j in zip(report, report[1:]):\n",
        "    diff = i-j\n",
        "    if not (1 <= abs(diff) <= 3):\n",
        "      return False\n",
        "    if current_sign != copysign(1, diff):\n",
        "      return False\n",
        "  return True\n",
        "\n",
        "def day2_1():\n",
        "  data = [[int(l) for l in line.split()] for line in aocd.get_data(day=2, year=2024).splitlines()]\n",
        "  return sum(1 for report in data if is_report_safe(report))\n",
        "day2_1()"
      ],
      "metadata": {
        "id": "W_tgb0t03MT2",
        "colab": {
          "base_uri": "https://localhost:8080/"
        },
        "outputId": "90864e40-31c4-45bf-a572-3117dff76d48"
      },
      "execution_count": null,
      "outputs": [
        {
          "output_type": "execute_result",
          "data": {
            "text/plain": [
              "559"
            ]
          },
          "metadata": {},
          "execution_count": 4
        }
      ]
    },
    {
      "cell_type": "code",
      "source": [
        "aocd.submit(day2_1(), day=2, year=2024, part=\"a\")"
      ],
      "metadata": {
        "colab": {
          "base_uri": "https://localhost:8080/"
        },
        "outputId": "612fae57-46d4-4825-fea2-4011a99843b7",
        "id": "QkQd-C-pSZm_"
      },
      "execution_count": null,
      "outputs": [
        {
          "output_type": "stream",
          "name": "stdout",
          "text": [
            "Part a already solved with same answer: 559\n"
          ]
        }
      ]
    },
    {
      "cell_type": "code",
      "source": [
        "def is_alternate_save(report: list[int]) -> bool:\n",
        "  if is_report_safe(report):\n",
        "    return True\n",
        "\n",
        "  for i in range(len(report)):\n",
        "    removed = report[:i] + report[i+1:]\n",
        "    if is_report_safe(removed):\n",
        "      return True\n",
        "\n",
        "  return False\n",
        "\n",
        "def day2_2():\n",
        "  data = [[int(l) for l in line.split()] for line in aocd.get_data(day=2, year=2024).splitlines()]\n",
        "  return sum(1 for report in data if is_alternate_save(report))\n",
        "\n",
        "day2_2()"
      ],
      "metadata": {
        "colab": {
          "base_uri": "https://localhost:8080/"
        },
        "id": "6LlRG25imvrR",
        "outputId": "f6f3fd9c-bdc2-44b8-ebf4-acce00bc2fd6"
      },
      "execution_count": null,
      "outputs": [
        {
          "output_type": "execute_result",
          "data": {
            "text/plain": [
              "601"
            ]
          },
          "metadata": {},
          "execution_count": 5
        }
      ]
    },
    {
      "cell_type": "code",
      "source": [
        "aocd.submit(day2_2(), day=2, year=2024, part=\"b\")"
      ],
      "metadata": {
        "colab": {
          "base_uri": "https://localhost:8080/"
        },
        "id": "MXj3IcnuRipD",
        "outputId": "ab38a244-ee3d-4c4f-8525-093964905be4"
      },
      "execution_count": null,
      "outputs": [
        {
          "output_type": "stream",
          "name": "stdout",
          "text": [
            "Part b already solved with same answer: 601\n"
          ]
        }
      ]
    },
    {
      "cell_type": "markdown",
      "source": [
        "# Day 3"
      ],
      "metadata": {
        "id": "F5dTH-UOpbXn"
      }
    },
    {
      "cell_type": "code",
      "source": [
        "import re\n",
        "\n",
        "def day3_1():\n",
        "  data = aocd.get_data(day=3, year=2024)\n",
        "  result = 0\n",
        "  for match in re.finditer(r\"mul\\((\\d+),(\\d+)\\)\", data):\n",
        "    a,b = match.group(1,2)\n",
        "    result += int(a)*int(b)\n",
        "  return result\n",
        "\n",
        "day3_1()"
      ],
      "metadata": {
        "id": "MARkiW9aopPP",
        "colab": {
          "base_uri": "https://localhost:8080/"
        },
        "outputId": "2a898f90-cd4b-4556-ed04-c6e0e0757ea9"
      },
      "execution_count": null,
      "outputs": [
        {
          "output_type": "execute_result",
          "data": {
            "text/plain": [
              "190604937"
            ]
          },
          "metadata": {},
          "execution_count": 7
        }
      ]
    },
    {
      "cell_type": "code",
      "source": [
        "aocd.submit(day3_1(), day=3, year=2024, part=\"a\")"
      ],
      "metadata": {
        "colab": {
          "base_uri": "https://localhost:8080/"
        },
        "id": "20CsGusVRMl2",
        "outputId": "d97096f5-cc6a-42ef-dc0a-2108bff0c165"
      },
      "execution_count": null,
      "outputs": [
        {
          "output_type": "stream",
          "name": "stdout",
          "text": [
            "Part a already solved with same answer: 190604937\n"
          ]
        }
      ]
    },
    {
      "cell_type": "code",
      "source": [
        "def day3_2():\n",
        "  data = aocd.get_data(day=3, year=2024)\n",
        "  result = 0\n",
        "  do = True\n",
        "  for m in re.finditer(r\"(do(?:n't)?\\(\\)|mul\\((\\d+),(\\d+)\\))\", data):\n",
        "    command = m.group(1)\n",
        "    if command == \"do()\":\n",
        "      do = True\n",
        "    elif command == \"don't()\":\n",
        "      do = False\n",
        "    elif do:\n",
        "      a,b = m.group(2,3)\n",
        "      result += int(a)*int(b)\n",
        "  return result\n",
        "\n",
        "day3_2()"
      ],
      "metadata": {
        "colab": {
          "base_uri": "https://localhost:8080/"
        },
        "id": "0Mg80uLqRc3s",
        "outputId": "fb7b42ea-7736-4973-c575-e097df37868b"
      },
      "execution_count": null,
      "outputs": [
        {
          "output_type": "execute_result",
          "data": {
            "text/plain": [
              "82857512"
            ]
          },
          "metadata": {},
          "execution_count": 9
        }
      ]
    },
    {
      "cell_type": "code",
      "source": [
        "aocd.submit(day3_2(), day=3, year=2024, part=\"b\")"
      ],
      "metadata": {
        "colab": {
          "base_uri": "https://localhost:8080/"
        },
        "id": "hdbIAPPbH0xH",
        "outputId": "41265d7a-718f-4dc4-bb18-a610a4eb4d32"
      },
      "execution_count": null,
      "outputs": [
        {
          "output_type": "stream",
          "name": "stdout",
          "text": [
            "Part b already solved with same answer: 82857512\n"
          ]
        }
      ]
    },
    {
      "cell_type": "markdown",
      "source": [
        "#  Day 4"
      ],
      "metadata": {
        "id": "cYGGC6DZSMyV"
      }
    },
    {
      "cell_type": "code",
      "source": [
        "def day4_1():\n",
        "  puzzle = aocd.get_data(day=4, year=2024).splitlines()\n",
        "  directions = [\n",
        "      [(1,0), (2,0), (3,0)], # right\n",
        "      [(-1,0), (-2,0), (-3,0)], # left\n",
        "      [(0,1), (0,2), (0,3)], # up\n",
        "      [(0,-1), (0,-2), (0,-3)], #down\n",
        "      [(1,1),(2,2),(3,3)], # right up\n",
        "      [(-1,-1),(-2,-2),(-3,-3)], # left down\n",
        "      [(-1,1), (-2,2), (-3,3)], # left up\n",
        "      [(1,-1), (2,-2),(3,-3)], # right down\n",
        "  ]\n",
        "\n",
        "  result = 0\n",
        "  for y, line in enumerate(puzzle):\n",
        "    for x, char in enumerate(line):\n",
        "      if char != \"X\":\n",
        "        continue\n",
        "      for direction in directions:\n",
        "        found = True\n",
        "        for coordinate, search in zip(direction, \"MAS\"):\n",
        "          new_y, new_x = y+coordinate[1], x+coordinate[0]\n",
        "          if new_y < 0 or new_y > len(puzzle)-1:\n",
        "            found = False\n",
        "            break\n",
        "          if new_x < 0 or new_x > len(line)-1:\n",
        "            found = False\n",
        "            break\n",
        "          if puzzle[new_y][new_x] != search:\n",
        "            found = False\n",
        "            break\n",
        "        if found:\n",
        "          result +=1\n",
        "\n",
        "  return result\n",
        "day4_1()"
      ],
      "metadata": {
        "id": "bwQ5TbE7SOU4",
        "colab": {
          "base_uri": "https://localhost:8080/"
        },
        "outputId": "df91ca18-baf5-4edf-e672-84ff38928010"
      },
      "execution_count": null,
      "outputs": [
        {
          "output_type": "execute_result",
          "data": {
            "text/plain": [
              "2401"
            ]
          },
          "metadata": {},
          "execution_count": 4
        }
      ]
    },
    {
      "cell_type": "code",
      "source": [
        "aocd.submit(day4_1(), day=4, year=2024)"
      ],
      "metadata": {
        "id": "yD3GSrYvS7aA",
        "colab": {
          "base_uri": "https://localhost:8080/"
        },
        "outputId": "1f795f20-2532-4b5e-e46e-ac1fa60cd66f"
      },
      "execution_count": null,
      "outputs": [
        {
          "output_type": "stream",
          "name": "stderr",
          "text": [
            "WARNING:aocd.post:answer a: None\n",
            "WARNING:aocd.post:submitting for part a\n"
          ]
        },
        {
          "output_type": "stream",
          "name": "stdout",
          "text": [
            "\u001b[32mThat's the right answer!  You are one gold star closer to finding the Chief Historian. [Continue to Part Two]\u001b[0m\n"
          ]
        },
        {
          "output_type": "execute_result",
          "data": {
            "text/plain": [
              "<urllib3.response.HTTPResponse at 0x7f565079b610>"
            ]
          },
          "metadata": {},
          "execution_count": 5
        }
      ]
    },
    {
      "cell_type": "code",
      "source": [
        "def day4_2():\n",
        "  puzzle = aocd.get_data(day=4, year=2024).splitlines()\n",
        "  searches = [\n",
        "      (1, 1, -1, -1),\n",
        "      (1, -1, -1, 1)\n",
        "  ]\n",
        "\n",
        "  result = 0\n",
        "  for y, line in enumerate(puzzle):\n",
        "    for x, char in enumerate(line):\n",
        "      if char != \"A\":\n",
        "        continue\n",
        "      found = True\n",
        "      for search in searches:\n",
        "        y1, x1, y2, x2 = search\n",
        "        y1 += y\n",
        "        y2 += y\n",
        "        x1 += x\n",
        "        x2 += x\n",
        "        if y1 < 0 or y1 > len(puzzle)-1 or y2 < 0 or y2 > len(puzzle)-1 :\n",
        "          found = False\n",
        "          break\n",
        "        if x1 < 0 or x1 > len(line)-1 or x2 < 0 or x2> len(line)-1:\n",
        "          found = False\n",
        "          break\n",
        "        text = puzzle[y1][x1] + puzzle[y2][x2]\n",
        "        if not (text == \"MS\" or text == \"SM\"):\n",
        "          found = False\n",
        "          break\n",
        "      if found:\n",
        "        result +=1\n",
        "\n",
        "  return result\n",
        "day4_2()"
      ],
      "metadata": {
        "id": "DSy4PUmKTGug",
        "outputId": "b6e69aa7-3d93-4103-aea7-501d4bb607f8",
        "colab": {
          "base_uri": "https://localhost:8080/"
        }
      },
      "execution_count": null,
      "outputs": [
        {
          "output_type": "execute_result",
          "data": {
            "text/plain": [
              "1822"
            ]
          },
          "metadata": {},
          "execution_count": 8
        }
      ]
    },
    {
      "cell_type": "code",
      "source": [
        "aocd.submit(day4_2())"
      ],
      "metadata": {
        "id": "4QVtC79BnZ3A",
        "outputId": "6adc24ee-1a25-479b-c2f3-5eb56607e2c1",
        "colab": {
          "base_uri": "https://localhost:8080/"
        }
      },
      "execution_count": null,
      "outputs": [
        {
          "output_type": "stream",
          "name": "stderr",
          "text": [
            "WARNING:aocd.post:answer a: 2401\n",
            "WARNING:aocd.post:submitting for part b (part a is already completed)\n"
          ]
        },
        {
          "output_type": "stream",
          "name": "stdout",
          "text": [
            "\u001b[32mThat's the right answer!  You are one gold star closer to finding the Chief Historian.You have completed Day 4! You can [Shareon\n",
            "  Bluesky\n",
            "Twitter\n",
            "Mastodon] this victory or [Return to Your Advent Calendar].\u001b[0m\n"
          ]
        },
        {
          "output_type": "execute_result",
          "data": {
            "text/plain": [
              "<urllib3.response.HTTPResponse at 0x7897f0ec5570>"
            ]
          },
          "metadata": {},
          "execution_count": 9
        }
      ]
    },
    {
      "cell_type": "markdown",
      "source": [
        "# Day 5"
      ],
      "metadata": {
        "id": "gph1P9DXaWV8"
      }
    },
    {
      "cell_type": "code",
      "source": [
        "from dataclasses import dataclass, field\n",
        "from collections import defaultdict\n",
        "\n",
        "@dataclass\n",
        "class Rule:\n",
        "  before: set[int] = field(default_factory=set)\n",
        "  after: set[int] = field(default_factory=set)\n",
        "\n",
        "def day5_1(puzzle: str) -> int:\n",
        "  result = 0\n",
        "\n",
        "  rule_input, pages_input = puzzle.split(\"\\n\\n\")\n",
        "  rules = defaultdict(Rule)\n",
        "\n",
        "  for line in rule_input.splitlines():\n",
        "    a, b = [int(n) for n in line.split(\"|\")]\n",
        "    rules[a].after.add(b)\n",
        "    rules[b].before.add(a)\n",
        "\n",
        "  pages = []\n",
        "  for line in pages_input.splitlines():\n",
        "    pages.append([int(n) for n in line.split(\",\")])\n",
        "\n",
        "  for page in pages:\n",
        "    right_order = True\n",
        "    for i, number in enumerate(page):\n",
        "      before, after = page[:i], page[i+1:]\n",
        "      rule = rules[number]\n",
        "\n",
        "      if not (rule.before.issuperset(before) and rule.after.issuperset(after)):\n",
        "        right_order = False\n",
        "        break\n",
        "    if right_order:\n",
        "      result += page[len(page)//2]\n",
        "\n",
        "  return result\n",
        "\n",
        "assert 143 == day5_1(\"\"\"\\\n",
        "47|53\n",
        "97|13\n",
        "97|61\n",
        "97|47\n",
        "75|29\n",
        "61|13\n",
        "75|53\n",
        "29|13\n",
        "97|29\n",
        "53|29\n",
        "61|53\n",
        "97|53\n",
        "61|29\n",
        "47|13\n",
        "75|47\n",
        "97|75\n",
        "47|61\n",
        "75|61\n",
        "47|29\n",
        "75|13\n",
        "53|13\n",
        "\n",
        "75,47,61,53,29\n",
        "97,61,53,29,13\n",
        "75,29,13\n",
        "75,97,47,61,53\n",
        "61,13,29\n",
        "97,13,75,29,47\n",
        "\"\"\"\n",
        ")"
      ],
      "metadata": {
        "id": "t-ptmwOcneCw",
        "colab": {
          "base_uri": "https://localhost:8080/"
        },
        "outputId": "9901fe53-2a23-4320-facf-1723924f4f9b"
      },
      "execution_count": 28,
      "outputs": [
        {
          "output_type": "stream",
          "name": "stdout",
          "text": [
            "143\n"
          ]
        }
      ]
    },
    {
      "cell_type": "code",
      "source": [
        "aocd.submit(day5_1(aocd.get_data(day=5, year=2024)), day=5, year=2024)"
      ],
      "metadata": {
        "colab": {
          "base_uri": "https://localhost:8080/"
        },
        "id": "qk_4wxDvChsO",
        "outputId": "a69dd7f0-3f50-4f53-bbb1-2fde44d5f0bc"
      },
      "execution_count": 31,
      "outputs": [
        {
          "output_type": "stream",
          "name": "stderr",
          "text": [
            "WARNING:aocd.post:answer a: None\n",
            "WARNING:aocd.post:submitting for part a\n"
          ]
        },
        {
          "output_type": "stream",
          "name": "stdout",
          "text": [
            "5639\n",
            "\u001b[32mThat's the right answer!  You are one gold star closer to finding the Chief Historian. [Continue to Part Two]\u001b[0m\n"
          ]
        },
        {
          "output_type": "execute_result",
          "data": {
            "text/plain": [
              "<urllib3.response.HTTPResponse at 0x7ed78cf4e770>"
            ]
          },
          "metadata": {},
          "execution_count": 31
        }
      ]
    },
    {
      "cell_type": "code",
      "source": [
        "from dataclasses import dataclass, field\n",
        "from collections import defaultdict\n",
        "from functools import cmp_to_key\n",
        "\n",
        "@dataclass\n",
        "class Rule:\n",
        "  before: set[int] = field(default_factory=set)\n",
        "  after: set[int] = field(default_factory=set)\n",
        "\n",
        "def day5_2(puzzle: str) -> int:\n",
        "  result = 0\n",
        "\n",
        "  rule_input, pages_input = puzzle.split(\"\\n\\n\")\n",
        "  rules = defaultdict(Rule)\n",
        "\n",
        "  for line in rule_input.splitlines():\n",
        "    a, b = [int(n) for n in line.split(\"|\")]\n",
        "    rules[a].after.add(b)\n",
        "    rules[b].before.add(a)\n",
        "\n",
        "  pages = []\n",
        "  for line in pages_input.splitlines():\n",
        "    pages.append([int(n) for n in line.split(\",\")])\n",
        "\n",
        "  wrong_pages = []\n",
        "  for page in pages:\n",
        "    right_order = True\n",
        "    for i, number in enumerate(page):\n",
        "      before, after = page[:i], page[i+1:]\n",
        "      rule = rules[number]\n",
        "\n",
        "      if not (rule.before.issuperset(before) and rule.after.issuperset(after)):\n",
        "        wrong_pages.append(page)\n",
        "        break\n",
        "\n",
        "  def sort_by(a, b):\n",
        "    r = rules[a]\n",
        "    if b in r.before:\n",
        "      return -1\n",
        "    if b in r.after:\n",
        "      return 1\n",
        "    return 0\n",
        "\n",
        "  for p in wrong_pages:\n",
        "    p.sort()\n",
        "\n",
        "  return result\n",
        "\n",
        "assert 143 == day5_1(\"\"\"\\\n",
        "47|53\n",
        "97|13\n",
        "97|61\n",
        "97|47\n",
        "75|29\n",
        "61|13\n",
        "75|53\n",
        "29|13\n",
        "97|29\n",
        "53|29\n",
        "61|53\n",
        "97|53\n",
        "61|29\n",
        "47|13\n",
        "75|47\n",
        "97|75\n",
        "47|61\n",
        "75|61\n",
        "47|29\n",
        "75|13\n",
        "53|13\n",
        "\n",
        "75,47,61,53,29\n",
        "97,61,53,29,13\n",
        "75,29,13\n",
        "75,97,47,61,53\n",
        "61,13,29\n",
        "97,13,75,29,47\n",
        "\"\"\"\n",
        ")"
      ],
      "metadata": {
        "colab": {
          "base_uri": "https://localhost:8080/"
        },
        "outputId": "9901fe53-2a23-4320-facf-1723924f4f9b",
        "id": "84sknjZPoh67"
      },
      "execution_count": null,
      "outputs": [
        {
          "output_type": "stream",
          "name": "stdout",
          "text": [
            "143\n"
          ]
        }
      ]
    }
  ]
}