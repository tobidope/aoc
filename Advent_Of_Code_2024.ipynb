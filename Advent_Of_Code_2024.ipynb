{
  "nbformat": 4,
  "nbformat_minor": 0,
  "metadata": {
    "colab": {
      "provenance": [],
      "mount_file_id": "1ndUnm4o8RrliAs_mXQJfRskUEjjuYdzE",
      "authorship_tag": "ABX9TyP29cCOS6bUChQYIgVr7nj4",
      "include_colab_link": true
    },
    "kernelspec": {
      "name": "python3",
      "display_name": "Python 3"
    },
    "language_info": {
      "name": "python"
    }
  },
  "cells": [
    {
      "cell_type": "markdown",
      "metadata": {
        "id": "view-in-github",
        "colab_type": "text"
      },
      "source": [
        "<a href=\"https://colab.research.google.com/github/tobidope/aoc/blob/master/Advent_Of_Code_2024.ipynb\" target=\"_parent\"><img src=\"https://colab.research.google.com/assets/colab-badge.svg\" alt=\"Open In Colab\"/></a>"
      ]
    },
    {
      "cell_type": "code",
      "source": [
        "!pip install advent-of-code-data\n",
        "import aocd\n",
        "import os\n",
        "from google.colab import userdata\n",
        "from google.colab import drive\n",
        "drive.mount('/drive')\n",
        "os.environ[\"AOCD_DIR\"] = \"/content/drive/MyDrive/aoc\"\n",
        "os.environ[\"AOC_SESSION\"] = userdata.get('AOC_SESSION')\n",
        "os.environ[\"AOCD_CONFIG_DIR\"] = \"/content/drive/MyDrive/aoc/.config\""
      ],
      "metadata": {
        "id": "zMJxwLHDqDvk",
        "colab": {
          "base_uri": "https://localhost:8080/"
        },
        "outputId": "86a3485e-cf2a-4299-d1ae-dac8a91cb69d"
      },
      "execution_count": 1,
      "outputs": [
        {
          "output_type": "stream",
          "name": "stdout",
          "text": [
            "Requirement already satisfied: advent-of-code-data in /usr/local/lib/python3.10/dist-packages (2.0.4)\n",
            "Requirement already satisfied: beautifulsoup4 in /usr/local/lib/python3.10/dist-packages (from advent-of-code-data) (4.12.3)\n",
            "Requirement already satisfied: pebble in /usr/local/lib/python3.10/dist-packages (from advent-of-code-data) (5.1.0)\n",
            "Requirement already satisfied: urllib3 in /usr/local/lib/python3.10/dist-packages (from advent-of-code-data) (2.2.3)\n",
            "Requirement already satisfied: aocd-example-parser>=2023.2 in /usr/local/lib/python3.10/dist-packages (from advent-of-code-data) (2023.12.20)\n",
            "Requirement already satisfied: soupsieve>1.2 in /usr/local/lib/python3.10/dist-packages (from beautifulsoup4->advent-of-code-data) (2.6)\n",
            "Mounted at /drive\n"
          ]
        }
      ]
    },
    {
      "cell_type": "markdown",
      "source": [
        "# Day 1"
      ],
      "metadata": {
        "id": "jdPBC9Y03zth"
      }
    },
    {
      "cell_type": "code",
      "execution_count": 2,
      "metadata": {
        "id": "6K9w9GbWxDgn",
        "colab": {
          "base_uri": "https://localhost:8080/"
        },
        "outputId": "66b3275d-95e1-4fbe-cc69-a3b0e473b994"
      },
      "outputs": [
        {
          "output_type": "execute_result",
          "data": {
            "text/plain": [
              "1660292"
            ]
          },
          "metadata": {},
          "execution_count": 2
        }
      ],
      "source": [
        "def day1_1() -> int:\n",
        "  data = aocd.get_data(day=1, year=2024).splitlines()\n",
        "  c1, c2 = [], []\n",
        "  for line in data:\n",
        "    w = line.split()\n",
        "    c1.append(int(w[0]))\n",
        "    c2.append(int(w[1]))\n",
        "  c1.sort()\n",
        "  c2.sort()\n",
        "\n",
        "  sum = 0\n",
        "  for n1, n2 in zip(c1, c2):\n",
        "    sum += abs(n1-n2)\n",
        "\n",
        "  return sum\n",
        "day1_1()"
      ]
    },
    {
      "cell_type": "code",
      "source": [
        "aocd.submit(day1_1(), day=1, year=2024, part=\"a\")"
      ],
      "metadata": {
        "colab": {
          "base_uri": "https://localhost:8080/"
        },
        "id": "0FQby12WSoR2",
        "outputId": "ce108cc5-e3a8-46fc-cfc7-af559ed4c1b9"
      },
      "execution_count": 15,
      "outputs": [
        {
          "output_type": "stream",
          "name": "stdout",
          "text": [
            "Part a already solved with same answer: 1660292\n"
          ]
        }
      ]
    },
    {
      "cell_type": "code",
      "source": [
        "from collections import Counter\n",
        "def day1_2() -> int:\n",
        "  data = aocd.get_data(day=1, year=2024).splitlines()\n",
        "  c1, c2 = [], []\n",
        "  for line in data:\n",
        "    w = line.split()\n",
        "    c1.append(int(w[0]))\n",
        "    c2.append(int(w[1]))\n",
        "  c1.sort()\n",
        "  c2.sort()\n",
        "  counts = Counter(c2)\n",
        "\n",
        "  sum = 0\n",
        "  for n in c1:\n",
        "    sum += n * counts[n]\n",
        "  return sum\n",
        "\n",
        "day1_2()"
      ],
      "metadata": {
        "colab": {
          "base_uri": "https://localhost:8080/"
        },
        "id": "D49wToqS2cqO",
        "outputId": "a60e8563-c57f-4839-824b-2c79f2770790"
      },
      "execution_count": 3,
      "outputs": [
        {
          "output_type": "execute_result",
          "data": {
            "text/plain": [
              "22776016"
            ]
          },
          "metadata": {},
          "execution_count": 3
        }
      ]
    },
    {
      "cell_type": "code",
      "source": [
        "aocd.submit(day1_2(), day=1, year=2024)"
      ],
      "metadata": {
        "colab": {
          "base_uri": "https://localhost:8080/"
        },
        "id": "G0xuam58SeIC",
        "outputId": "1419647e-87ce-4219-bd09-5f0168be5aeb"
      },
      "execution_count": 13,
      "outputs": [
        {
          "output_type": "stream",
          "name": "stderr",
          "text": [
            "WARNING:aocd.post:answer a: 1660292\n",
            "WARNING:aocd.post:submitting for part b (part a is already completed)\n"
          ]
        },
        {
          "output_type": "stream",
          "name": "stdout",
          "text": [
            "Part b already solved with same answer: 22776016\n"
          ]
        }
      ]
    },
    {
      "cell_type": "markdown",
      "source": [
        "# Day 2"
      ],
      "metadata": {
        "id": "bAA5Mz1u34o8"
      }
    },
    {
      "cell_type": "code",
      "source": [
        "from math import copysign\n",
        "def is_report_safe(report: list[int]) -> bool:\n",
        "  current_sign = copysign(1, report[0]-report[1])\n",
        "  for i, j in zip(report, report[1:]):\n",
        "    diff = i-j\n",
        "    if not (1 <= abs(diff) <= 3):\n",
        "      return False\n",
        "    if current_sign != copysign(1, diff):\n",
        "      return False\n",
        "  return True\n",
        "\n",
        "def day2_1():\n",
        "  data = [[int(l) for l in line.split()] for line in aocd.get_data(day=2, year=2024).splitlines()]\n",
        "  return sum(1 for report in data if is_report_safe(report))\n",
        "day2_1()"
      ],
      "metadata": {
        "id": "W_tgb0t03MT2",
        "colab": {
          "base_uri": "https://localhost:8080/"
        },
        "outputId": "90864e40-31c4-45bf-a572-3117dff76d48"
      },
      "execution_count": 4,
      "outputs": [
        {
          "output_type": "execute_result",
          "data": {
            "text/plain": [
              "559"
            ]
          },
          "metadata": {},
          "execution_count": 4
        }
      ]
    },
    {
      "cell_type": "code",
      "source": [
        "aocd.submit(day2_1(), day=2, year=2024, part=\"a\")"
      ],
      "metadata": {
        "colab": {
          "base_uri": "https://localhost:8080/"
        },
        "outputId": "612fae57-46d4-4825-fea2-4011a99843b7",
        "id": "QkQd-C-pSZm_"
      },
      "execution_count": 11,
      "outputs": [
        {
          "output_type": "stream",
          "name": "stdout",
          "text": [
            "Part a already solved with same answer: 559\n"
          ]
        }
      ]
    },
    {
      "cell_type": "code",
      "source": [
        "def is_alternate_save(report: list[int]) -> bool:\n",
        "  if is_report_safe(report):\n",
        "    return True\n",
        "\n",
        "  for i in range(len(report)):\n",
        "    removed = report[:i] + report[i+1:]\n",
        "    if is_report_safe(removed):\n",
        "      return True\n",
        "\n",
        "  return False\n",
        "\n",
        "def day2_2():\n",
        "  data = [[int(l) for l in line.split()] for line in aocd.get_data(day=2, year=2024).splitlines()]\n",
        "  return sum(1 for report in data if is_alternate_save(report))\n",
        "\n",
        "day2_2()"
      ],
      "metadata": {
        "colab": {
          "base_uri": "https://localhost:8080/"
        },
        "id": "6LlRG25imvrR",
        "outputId": "f6f3fd9c-bdc2-44b8-ebf4-acce00bc2fd6"
      },
      "execution_count": 5,
      "outputs": [
        {
          "output_type": "execute_result",
          "data": {
            "text/plain": [
              "601"
            ]
          },
          "metadata": {},
          "execution_count": 5
        }
      ]
    },
    {
      "cell_type": "code",
      "source": [
        "aocd.submit(day2_2(), day=2, year=2024, part=\"b\")"
      ],
      "metadata": {
        "colab": {
          "base_uri": "https://localhost:8080/"
        },
        "id": "MXj3IcnuRipD",
        "outputId": "ab38a244-ee3d-4c4f-8525-093964905be4"
      },
      "execution_count": 6,
      "outputs": [
        {
          "output_type": "stream",
          "name": "stdout",
          "text": [
            "Part b already solved with same answer: 601\n"
          ]
        }
      ]
    },
    {
      "cell_type": "markdown",
      "source": [
        "# Day 3"
      ],
      "metadata": {
        "id": "F5dTH-UOpbXn"
      }
    },
    {
      "cell_type": "code",
      "source": [
        "import re\n",
        "\n",
        "def day3_1():\n",
        "  data = aocd.get_data(day=3, year=2024)\n",
        "  result = 0\n",
        "  for match in re.finditer(r\"mul\\((\\d+),(\\d+)\\)\", data):\n",
        "    a,b = match.group(1,2)\n",
        "    result += int(a)*int(b)\n",
        "  return result\n",
        "\n",
        "day3_1()"
      ],
      "metadata": {
        "id": "MARkiW9aopPP",
        "colab": {
          "base_uri": "https://localhost:8080/"
        },
        "outputId": "2a898f90-cd4b-4556-ed04-c6e0e0757ea9"
      },
      "execution_count": 7,
      "outputs": [
        {
          "output_type": "execute_result",
          "data": {
            "text/plain": [
              "190604937"
            ]
          },
          "metadata": {},
          "execution_count": 7
        }
      ]
    },
    {
      "cell_type": "code",
      "source": [
        "aocd.submit(day3_1(), day=3, year=2024, part=\"a\")"
      ],
      "metadata": {
        "colab": {
          "base_uri": "https://localhost:8080/"
        },
        "id": "20CsGusVRMl2",
        "outputId": "d97096f5-cc6a-42ef-dc0a-2108bff0c165"
      },
      "execution_count": 8,
      "outputs": [
        {
          "output_type": "stream",
          "name": "stdout",
          "text": [
            "Part a already solved with same answer: 190604937\n"
          ]
        }
      ]
    },
    {
      "cell_type": "code",
      "source": [
        "def day3_2():\n",
        "  data = aocd.get_data(day=3, year=2024)\n",
        "  result = 0\n",
        "  do = True\n",
        "  for m in re.finditer(r\"(do(?:n't)?\\(\\)|mul\\((\\d+),(\\d+)\\))\", data):\n",
        "    command = m.group(1)\n",
        "    if command == \"do()\":\n",
        "      do = True\n",
        "    elif command == \"don't()\":\n",
        "      do = False\n",
        "    elif do:\n",
        "      a,b = m.group(2,3)\n",
        "      result += int(a)*int(b)\n",
        "  return result\n",
        "\n",
        "day3_2()"
      ],
      "metadata": {
        "colab": {
          "base_uri": "https://localhost:8080/"
        },
        "id": "0Mg80uLqRc3s",
        "outputId": "fb7b42ea-7736-4973-c575-e097df37868b"
      },
      "execution_count": 9,
      "outputs": [
        {
          "output_type": "execute_result",
          "data": {
            "text/plain": [
              "82857512"
            ]
          },
          "metadata": {},
          "execution_count": 9
        }
      ]
    },
    {
      "cell_type": "code",
      "source": [
        "aocd.submit(day3_2(), day=3, year=2024, part=\"b\")"
      ],
      "metadata": {
        "colab": {
          "base_uri": "https://localhost:8080/"
        },
        "id": "hdbIAPPbH0xH",
        "outputId": "41265d7a-718f-4dc4-bb18-a610a4eb4d32"
      },
      "execution_count": 10,
      "outputs": [
        {
          "output_type": "stream",
          "name": "stdout",
          "text": [
            "Part b already solved with same answer: 82857512\n"
          ]
        }
      ]
    },
    {
      "cell_type": "markdown",
      "source": [
        "#  Day 4"
      ],
      "metadata": {
        "id": "cYGGC6DZSMyV"
      }
    },
    {
      "cell_type": "code",
      "source": [
        "def day4_1():\n",
        "  data = aocd.get_data(day=4, year=2024)\n",
        "\n",
        "  return result\n",
        "day4_1()"
      ],
      "metadata": {
        "id": "bwQ5TbE7SOU4"
      },
      "execution_count": null,
      "outputs": []
    },
    {
      "cell_type": "code",
      "source": [
        "aocd.submit(day4_1(), day=4, year=2024)"
      ],
      "metadata": {
        "id": "yD3GSrYvS7aA"
      },
      "execution_count": null,
      "outputs": []
    },
    {
      "cell_type": "code",
      "source": [
        "def day4_2():\n",
        "  data = aocd.get_data(day=4, year=2024)\n",
        "\n",
        "  return result\n",
        "day4_2()"
      ],
      "metadata": {
        "id": "DSy4PUmKTGug"
      },
      "execution_count": null,
      "outputs": []
    }
  ]
}