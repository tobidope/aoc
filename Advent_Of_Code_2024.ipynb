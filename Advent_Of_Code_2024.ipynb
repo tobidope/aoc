{
  "nbformat": 4,
  "nbformat_minor": 0,
  "metadata": {
    "colab": {
      "provenance": [],
      "mount_file_id": "1ndUnm4o8RrliAs_mXQJfRskUEjjuYdzE",
      "authorship_tag": "ABX9TyPD/QLZwTtoSyzYuvvdN1tF",
      "include_colab_link": true
    },
    "kernelspec": {
      "name": "python3",
      "display_name": "Python 3"
    },
    "language_info": {
      "name": "python"
    }
  },
  "cells": [
    {
      "cell_type": "markdown",
      "metadata": {
        "id": "view-in-github",
        "colab_type": "text"
      },
      "source": [
        "<a href=\"https://colab.research.google.com/github/tobidope/aoc/blob/master/Advent_Of_Code_2024.ipynb\" target=\"_parent\"><img src=\"https://colab.research.google.com/assets/colab-badge.svg\" alt=\"Open In Colab\"/></a>"
      ]
    },
    {
      "cell_type": "code",
      "source": [
        "!pip install advent-of-code-data\n",
        "import aocd\n",
        "import os\n",
        "from google.colab import userdata\n",
        "os.environ[\"AOC_SESSION\"] = userdata.get('AOC_SESSION')"
      ],
      "metadata": {
        "id": "zMJxwLHDqDvk",
        "colab": {
          "base_uri": "https://localhost:8080/"
        },
        "outputId": "f9bf2670-fe06-4a83-8b95-9062f12284f4"
      },
      "execution_count": 1,
      "outputs": [
        {
          "output_type": "stream",
          "name": "stdout",
          "text": [
            "Collecting advent-of-code-data\n",
            "  Downloading advent_of_code_data-2.0.4-py3-none-any.whl.metadata (11 kB)\n",
            "Requirement already satisfied: beautifulsoup4 in /usr/local/lib/python3.10/dist-packages (from advent-of-code-data) (4.12.3)\n",
            "Collecting pebble (from advent-of-code-data)\n",
            "  Downloading Pebble-5.1.0-py3-none-any.whl.metadata (3.6 kB)\n",
            "Requirement already satisfied: urllib3 in /usr/local/lib/python3.10/dist-packages (from advent-of-code-data) (2.2.3)\n",
            "Collecting aocd-example-parser>=2023.2 (from advent-of-code-data)\n",
            "  Downloading aocd_example_parser-2023.12.20-py3-none-any.whl.metadata (8.9 kB)\n",
            "Requirement already satisfied: soupsieve>1.2 in /usr/local/lib/python3.10/dist-packages (from beautifulsoup4->advent-of-code-data) (2.6)\n",
            "Downloading advent_of_code_data-2.0.4-py3-none-any.whl (38 kB)\n",
            "Downloading aocd_example_parser-2023.12.20-py3-none-any.whl (12 kB)\n",
            "Downloading Pebble-5.1.0-py3-none-any.whl (36 kB)\n",
            "Installing collected packages: pebble, aocd-example-parser, advent-of-code-data\n",
            "Successfully installed advent-of-code-data-2.0.4 aocd-example-parser-2023.12.20 pebble-5.1.0\n"
          ]
        }
      ]
    },
    {
      "cell_type": "markdown",
      "source": [
        "# Day 1"
      ],
      "metadata": {
        "id": "jdPBC9Y03zth"
      }
    },
    {
      "cell_type": "code",
      "execution_count": null,
      "metadata": {
        "id": "6K9w9GbWxDgn",
        "colab": {
          "base_uri": "https://localhost:8080/"
        },
        "outputId": "66b3275d-95e1-4fbe-cc69-a3b0e473b994"
      },
      "outputs": [
        {
          "output_type": "execute_result",
          "data": {
            "text/plain": [
              "1660292"
            ]
          },
          "metadata": {},
          "execution_count": 2
        }
      ],
      "source": [
        "def day1_1() -> int:\n",
        "  data = aocd.get_data(day=1, year=2024).splitlines()\n",
        "  c1, c2 = [], []\n",
        "  for line in data:\n",
        "    w = line.split()\n",
        "    c1.append(int(w[0]))\n",
        "    c2.append(int(w[1]))\n",
        "  c1.sort()\n",
        "  c2.sort()\n",
        "\n",
        "  sum = 0\n",
        "  for n1, n2 in zip(c1, c2):\n",
        "    sum += abs(n1-n2)\n",
        "\n",
        "  return sum\n",
        "day1_1()"
      ]
    },
    {
      "cell_type": "code",
      "source": [
        "aocd.submit(day1_1(), day=1, year=2024, part=\"a\")"
      ],
      "metadata": {
        "colab": {
          "base_uri": "https://localhost:8080/"
        },
        "id": "0FQby12WSoR2",
        "outputId": "ce108cc5-e3a8-46fc-cfc7-af559ed4c1b9"
      },
      "execution_count": null,
      "outputs": [
        {
          "output_type": "stream",
          "name": "stdout",
          "text": [
            "Part a already solved with same answer: 1660292\n"
          ]
        }
      ]
    },
    {
      "cell_type": "code",
      "source": [
        "from collections import Counter\n",
        "def day1_2() -> int:\n",
        "  data = aocd.get_data(day=1, year=2024).splitlines()\n",
        "  c1, c2 = [], []\n",
        "  for line in data:\n",
        "    w = line.split()\n",
        "    c1.append(int(w[0]))\n",
        "    c2.append(int(w[1]))\n",
        "  c1.sort()\n",
        "  c2.sort()\n",
        "  counts = Counter(c2)\n",
        "\n",
        "  sum = 0\n",
        "  for n in c1:\n",
        "    sum += n * counts[n]\n",
        "  return sum\n",
        "\n",
        "day1_2()"
      ],
      "metadata": {
        "colab": {
          "base_uri": "https://localhost:8080/"
        },
        "id": "D49wToqS2cqO",
        "outputId": "a60e8563-c57f-4839-824b-2c79f2770790"
      },
      "execution_count": null,
      "outputs": [
        {
          "output_type": "execute_result",
          "data": {
            "text/plain": [
              "22776016"
            ]
          },
          "metadata": {},
          "execution_count": 3
        }
      ]
    },
    {
      "cell_type": "code",
      "source": [
        "aocd.submit(day1_2(), day=1, year=2024)"
      ],
      "metadata": {
        "colab": {
          "base_uri": "https://localhost:8080/"
        },
        "id": "G0xuam58SeIC",
        "outputId": "1419647e-87ce-4219-bd09-5f0168be5aeb"
      },
      "execution_count": null,
      "outputs": [
        {
          "output_type": "stream",
          "name": "stderr",
          "text": [
            "WARNING:aocd.post:answer a: 1660292\n",
            "WARNING:aocd.post:submitting for part b (part a is already completed)\n"
          ]
        },
        {
          "output_type": "stream",
          "name": "stdout",
          "text": [
            "Part b already solved with same answer: 22776016\n"
          ]
        }
      ]
    },
    {
      "cell_type": "markdown",
      "source": [
        "# Day 2"
      ],
      "metadata": {
        "id": "bAA5Mz1u34o8"
      }
    },
    {
      "cell_type": "code",
      "source": [
        "from math import copysign\n",
        "def is_report_safe(report: list[int]) -> bool:\n",
        "  current_sign = copysign(1, report[0]-report[1])\n",
        "  for i, j in zip(report, report[1:]):\n",
        "    diff = i-j\n",
        "    if not (1 <= abs(diff) <= 3):\n",
        "      return False\n",
        "    if current_sign != copysign(1, diff):\n",
        "      return False\n",
        "  return True\n",
        "\n",
        "def day2_1():\n",
        "  data = [[int(l) for l in line.split()] for line in aocd.get_data(day=2, year=2024).splitlines()]\n",
        "  return sum(1 for report in data if is_report_safe(report))\n",
        "day2_1()"
      ],
      "metadata": {
        "id": "W_tgb0t03MT2",
        "colab": {
          "base_uri": "https://localhost:8080/"
        },
        "outputId": "90864e40-31c4-45bf-a572-3117dff76d48"
      },
      "execution_count": null,
      "outputs": [
        {
          "output_type": "execute_result",
          "data": {
            "text/plain": [
              "559"
            ]
          },
          "metadata": {},
          "execution_count": 4
        }
      ]
    },
    {
      "cell_type": "code",
      "source": [
        "aocd.submit(day2_1(), day=2, year=2024, part=\"a\")"
      ],
      "metadata": {
        "colab": {
          "base_uri": "https://localhost:8080/"
        },
        "outputId": "612fae57-46d4-4825-fea2-4011a99843b7",
        "id": "QkQd-C-pSZm_"
      },
      "execution_count": null,
      "outputs": [
        {
          "output_type": "stream",
          "name": "stdout",
          "text": [
            "Part a already solved with same answer: 559\n"
          ]
        }
      ]
    },
    {
      "cell_type": "code",
      "source": [
        "def is_alternate_save(report: list[int]) -> bool:\n",
        "  if is_report_safe(report):\n",
        "    return True\n",
        "\n",
        "  for i in range(len(report)):\n",
        "    removed = report[:i] + report[i+1:]\n",
        "    if is_report_safe(removed):\n",
        "      return True\n",
        "\n",
        "  return False\n",
        "\n",
        "def day2_2():\n",
        "  data = [[int(l) for l in line.split()] for line in aocd.get_data(day=2, year=2024).splitlines()]\n",
        "  return sum(1 for report in data if is_alternate_save(report))\n",
        "\n",
        "day2_2()"
      ],
      "metadata": {
        "colab": {
          "base_uri": "https://localhost:8080/"
        },
        "id": "6LlRG25imvrR",
        "outputId": "f6f3fd9c-bdc2-44b8-ebf4-acce00bc2fd6"
      },
      "execution_count": null,
      "outputs": [
        {
          "output_type": "execute_result",
          "data": {
            "text/plain": [
              "601"
            ]
          },
          "metadata": {},
          "execution_count": 5
        }
      ]
    },
    {
      "cell_type": "code",
      "source": [
        "aocd.submit(day2_2(), day=2, year=2024, part=\"b\")"
      ],
      "metadata": {
        "colab": {
          "base_uri": "https://localhost:8080/"
        },
        "id": "MXj3IcnuRipD",
        "outputId": "ab38a244-ee3d-4c4f-8525-093964905be4"
      },
      "execution_count": null,
      "outputs": [
        {
          "output_type": "stream",
          "name": "stdout",
          "text": [
            "Part b already solved with same answer: 601\n"
          ]
        }
      ]
    },
    {
      "cell_type": "markdown",
      "source": [
        "# Day 3"
      ],
      "metadata": {
        "id": "F5dTH-UOpbXn"
      }
    },
    {
      "cell_type": "code",
      "source": [
        "import re\n",
        "\n",
        "def day3_1():\n",
        "  data = aocd.get_data(day=3, year=2024)\n",
        "  result = 0\n",
        "  for match in re.finditer(r\"mul\\((\\d+),(\\d+)\\)\", data):\n",
        "    a,b = match.group(1,2)\n",
        "    result += int(a)*int(b)\n",
        "  return result\n",
        "\n",
        "day3_1()"
      ],
      "metadata": {
        "id": "MARkiW9aopPP",
        "colab": {
          "base_uri": "https://localhost:8080/"
        },
        "outputId": "2a898f90-cd4b-4556-ed04-c6e0e0757ea9"
      },
      "execution_count": null,
      "outputs": [
        {
          "output_type": "execute_result",
          "data": {
            "text/plain": [
              "190604937"
            ]
          },
          "metadata": {},
          "execution_count": 7
        }
      ]
    },
    {
      "cell_type": "code",
      "source": [
        "aocd.submit(day3_1(), day=3, year=2024, part=\"a\")"
      ],
      "metadata": {
        "colab": {
          "base_uri": "https://localhost:8080/"
        },
        "id": "20CsGusVRMl2",
        "outputId": "d97096f5-cc6a-42ef-dc0a-2108bff0c165"
      },
      "execution_count": null,
      "outputs": [
        {
          "output_type": "stream",
          "name": "stdout",
          "text": [
            "Part a already solved with same answer: 190604937\n"
          ]
        }
      ]
    },
    {
      "cell_type": "code",
      "source": [
        "def day3_2():\n",
        "  data = aocd.get_data(day=3, year=2024)\n",
        "  result = 0\n",
        "  do = True\n",
        "  for m in re.finditer(r\"(do(?:n't)?\\(\\)|mul\\((\\d+),(\\d+)\\))\", data):\n",
        "    command = m.group(1)\n",
        "    if command == \"do()\":\n",
        "      do = True\n",
        "    elif command == \"don't()\":\n",
        "      do = False\n",
        "    elif do:\n",
        "      a,b = m.group(2,3)\n",
        "      result += int(a)*int(b)\n",
        "  return result\n",
        "\n",
        "day3_2()"
      ],
      "metadata": {
        "colab": {
          "base_uri": "https://localhost:8080/"
        },
        "id": "0Mg80uLqRc3s",
        "outputId": "fb7b42ea-7736-4973-c575-e097df37868b"
      },
      "execution_count": null,
      "outputs": [
        {
          "output_type": "execute_result",
          "data": {
            "text/plain": [
              "82857512"
            ]
          },
          "metadata": {},
          "execution_count": 9
        }
      ]
    },
    {
      "cell_type": "code",
      "source": [
        "aocd.submit(day3_2(), day=3, year=2024, part=\"b\")"
      ],
      "metadata": {
        "colab": {
          "base_uri": "https://localhost:8080/"
        },
        "id": "hdbIAPPbH0xH",
        "outputId": "41265d7a-718f-4dc4-bb18-a610a4eb4d32"
      },
      "execution_count": null,
      "outputs": [
        {
          "output_type": "stream",
          "name": "stdout",
          "text": [
            "Part b already solved with same answer: 82857512\n"
          ]
        }
      ]
    },
    {
      "cell_type": "markdown",
      "source": [
        "#  Day 4"
      ],
      "metadata": {
        "id": "cYGGC6DZSMyV"
      }
    },
    {
      "cell_type": "code",
      "source": [
        "def day4_1():\n",
        "  puzzle = aocd.get_data(day=4, year=2024).splitlines()\n",
        "  directions = [\n",
        "      [(1,0), (2,0), (3,0)], # right\n",
        "      [(-1,0), (-2,0), (-3,0)], # left\n",
        "      [(0,1), (0,2), (0,3)], # up\n",
        "      [(0,-1), (0,-2), (0,-3)], #down\n",
        "      [(1,1),(2,2),(3,3)], # right up\n",
        "      [(-1,-1),(-2,-2),(-3,-3)], # left down\n",
        "      [(-1,1), (-2,2), (-3,3)], # left up\n",
        "      [(1,-1), (2,-2),(3,-3)], # right down\n",
        "  ]\n",
        "\n",
        "  result = 0\n",
        "  for y, line in enumerate(puzzle):\n",
        "    for x, char in enumerate(line):\n",
        "      if char != \"X\":\n",
        "        continue\n",
        "      for direction in directions:\n",
        "        found = True\n",
        "        for coordinate, search in zip(direction, \"MAS\"):\n",
        "          new_y, new_x = y+coordinate[1], x+coordinate[0]\n",
        "          if new_y < 0 or new_y > len(puzzle)-1:\n",
        "            found = False\n",
        "            break\n",
        "          if new_x < 0 or new_x > len(line)-1:\n",
        "            found = False\n",
        "            break\n",
        "          if puzzle[new_y][new_x] != search:\n",
        "            found = False\n",
        "            break\n",
        "        if found:\n",
        "          result +=1\n",
        "\n",
        "  return result\n",
        "day4_1()"
      ],
      "metadata": {
        "id": "bwQ5TbE7SOU4",
        "colab": {
          "base_uri": "https://localhost:8080/"
        },
        "outputId": "df91ca18-baf5-4edf-e672-84ff38928010"
      },
      "execution_count": null,
      "outputs": [
        {
          "output_type": "execute_result",
          "data": {
            "text/plain": [
              "2401"
            ]
          },
          "metadata": {},
          "execution_count": 4
        }
      ]
    },
    {
      "cell_type": "code",
      "source": [
        "aocd.submit(day4_1(), day=4, year=2024)"
      ],
      "metadata": {
        "id": "yD3GSrYvS7aA",
        "colab": {
          "base_uri": "https://localhost:8080/"
        },
        "outputId": "1f795f20-2532-4b5e-e46e-ac1fa60cd66f"
      },
      "execution_count": null,
      "outputs": [
        {
          "output_type": "stream",
          "name": "stderr",
          "text": [
            "WARNING:aocd.post:answer a: None\n",
            "WARNING:aocd.post:submitting for part a\n"
          ]
        },
        {
          "output_type": "stream",
          "name": "stdout",
          "text": [
            "\u001b[32mThat's the right answer!  You are one gold star closer to finding the Chief Historian. [Continue to Part Two]\u001b[0m\n"
          ]
        },
        {
          "output_type": "execute_result",
          "data": {
            "text/plain": [
              "<urllib3.response.HTTPResponse at 0x7f565079b610>"
            ]
          },
          "metadata": {},
          "execution_count": 5
        }
      ]
    },
    {
      "cell_type": "code",
      "source": [
        "def day4_2():\n",
        "  puzzle = aocd.get_data(day=4, year=2024).splitlines()\n",
        "  searches = [\n",
        "      (1, 1, -1, -1),\n",
        "      (1, -1, -1, 1)\n",
        "  ]\n",
        "\n",
        "  result = 0\n",
        "  for y, line in enumerate(puzzle):\n",
        "    for x, char in enumerate(line):\n",
        "      if char != \"A\":\n",
        "        continue\n",
        "      found = True\n",
        "      for search in searches:\n",
        "        y1, x1, y2, x2 = search\n",
        "        y1 += y\n",
        "        y2 += y\n",
        "        x1 += x\n",
        "        x2 += x\n",
        "        if y1 < 0 or y1 > len(puzzle)-1 or y2 < 0 or y2 > len(puzzle)-1 :\n",
        "          found = False\n",
        "          break\n",
        "        if x1 < 0 or x1 > len(line)-1 or x2 < 0 or x2> len(line)-1:\n",
        "          found = False\n",
        "          break\n",
        "        text = puzzle[y1][x1] + puzzle[y2][x2]\n",
        "        if not (text == \"MS\" or text == \"SM\"):\n",
        "          found = False\n",
        "          break\n",
        "      if found:\n",
        "        result +=1\n",
        "\n",
        "  return result\n",
        "day4_2()"
      ],
      "metadata": {
        "id": "DSy4PUmKTGug",
        "outputId": "b6e69aa7-3d93-4103-aea7-501d4bb607f8",
        "colab": {
          "base_uri": "https://localhost:8080/"
        }
      },
      "execution_count": null,
      "outputs": [
        {
          "output_type": "execute_result",
          "data": {
            "text/plain": [
              "1822"
            ]
          },
          "metadata": {},
          "execution_count": 8
        }
      ]
    },
    {
      "cell_type": "code",
      "source": [
        "aocd.submit(day4_2())"
      ],
      "metadata": {
        "id": "4QVtC79BnZ3A",
        "outputId": "6adc24ee-1a25-479b-c2f3-5eb56607e2c1",
        "colab": {
          "base_uri": "https://localhost:8080/"
        }
      },
      "execution_count": null,
      "outputs": [
        {
          "output_type": "stream",
          "name": "stderr",
          "text": [
            "WARNING:aocd.post:answer a: 2401\n",
            "WARNING:aocd.post:submitting for part b (part a is already completed)\n"
          ]
        },
        {
          "output_type": "stream",
          "name": "stdout",
          "text": [
            "\u001b[32mThat's the right answer!  You are one gold star closer to finding the Chief Historian.You have completed Day 4! You can [Shareon\n",
            "  Bluesky\n",
            "Twitter\n",
            "Mastodon] this victory or [Return to Your Advent Calendar].\u001b[0m\n"
          ]
        },
        {
          "output_type": "execute_result",
          "data": {
            "text/plain": [
              "<urllib3.response.HTTPResponse at 0x7897f0ec5570>"
            ]
          },
          "metadata": {},
          "execution_count": 9
        }
      ]
    },
    {
      "cell_type": "markdown",
      "source": [
        "# Day 5"
      ],
      "metadata": {
        "id": "gph1P9DXaWV8"
      }
    },
    {
      "cell_type": "code",
      "source": [
        "from dataclasses import dataclass, field\n",
        "from collections import defaultdict\n",
        "\n",
        "@dataclass\n",
        "class Rule:\n",
        "  before: set[int] = field(default_factory=set)\n",
        "  after: set[int] = field(default_factory=set)\n",
        "\n",
        "def day5_1(puzzle: str) -> int:\n",
        "  result = 0\n",
        "\n",
        "  rule_input, pages_input = puzzle.split(\"\\n\\n\")\n",
        "  rules = defaultdict(Rule)\n",
        "\n",
        "  for line in rule_input.splitlines():\n",
        "    a, b = [int(n) for n in line.split(\"|\")]\n",
        "    rules[a].after.add(b)\n",
        "    rules[b].before.add(a)\n",
        "\n",
        "  pages = []\n",
        "  for line in pages_input.splitlines():\n",
        "    pages.append([int(n) for n in line.split(\",\")])\n",
        "\n",
        "  for page in pages:\n",
        "    right_order = True\n",
        "    for i, number in enumerate(page):\n",
        "      before, after = page[:i], page[i+1:]\n",
        "      rule = rules[number]\n",
        "\n",
        "      if not (rule.before.issuperset(before) and rule.after.issuperset(after)):\n",
        "        right_order = False\n",
        "        break\n",
        "    if right_order:\n",
        "      result += page[len(page)//2]\n",
        "\n",
        "  return result"
      ],
      "metadata": {
        "id": "t-ptmwOcneCw"
      },
      "execution_count": null,
      "outputs": []
    },
    {
      "cell_type": "code",
      "source": [
        "aocd.submit(day5_1(aocd.get_data(day=5, year=2024)), day=5, year=2024, part=\"a\")"
      ],
      "metadata": {
        "colab": {
          "base_uri": "https://localhost:8080/"
        },
        "id": "qk_4wxDvChsO",
        "outputId": "69602e7b-8bee-44ef-d486-ba603e7926bd"
      },
      "execution_count": null,
      "outputs": [
        {
          "output_type": "stream",
          "name": "stdout",
          "text": [
            "aocd will not submit that answer again. At 2024-12-05 05:19:42.492993-05:00 you've previously submitted 5639 and the server responded with:\n",
            "\u001b[32mThat's the right answer!  You are one gold star closer to finding the Chief Historian. [Continue to Part Two]\u001b[0m\n"
          ]
        }
      ]
    },
    {
      "cell_type": "code",
      "source": [
        "from dataclasses import dataclass, field\n",
        "from collections import defaultdict\n",
        "from functools import cmp_to_key\n",
        "\n",
        "@dataclass\n",
        "class Rule:\n",
        "  before: set[int] = field(default_factory=set)\n",
        "  after: set[int] = field(default_factory=set)\n",
        "\n",
        "def day5_2(puzzle: str) -> int:\n",
        "  result = 0\n",
        "\n",
        "  rule_input, pages_input = puzzle.split(\"\\n\\n\")\n",
        "  rules = defaultdict(Rule)\n",
        "\n",
        "  for line in rule_input.splitlines():\n",
        "    a, b = [int(n) for n in line.split(\"|\")]\n",
        "    rules[a].after.add(b)\n",
        "    rules[b].before.add(a)\n",
        "\n",
        "  pages = []\n",
        "  for line in pages_input.splitlines():\n",
        "    pages.append([int(n) for n in line.split(\",\")])\n",
        "\n",
        "  wrong_pages = []\n",
        "  for page in pages:\n",
        "    right_order = True\n",
        "    for i, number in enumerate(page):\n",
        "      before, after = page[:i], page[i+1:]\n",
        "      rule = rules[number]\n",
        "\n",
        "      if not (rule.before.issuperset(before) and rule.after.issuperset(after)):\n",
        "        wrong_pages.append(page)\n",
        "        break\n",
        "\n",
        "  def sort_by(a, b):\n",
        "    r = rules[a]\n",
        "    if b in r.before:\n",
        "      return -1\n",
        "    if b in r.after:\n",
        "      return 1\n",
        "    return 0\n",
        "\n",
        "  for p in wrong_pages:\n",
        "    p.sort(key=cmp_to_key(sort_by))\n",
        "    result += p[len(p)//2]\n",
        "\n",
        "  return result"
      ],
      "metadata": {
        "id": "84sknjZPoh67"
      },
      "execution_count": 22,
      "outputs": []
    },
    {
      "cell_type": "code",
      "source": [
        "aocd.submit(day5_2(aocd.get_data(day=5, year=2024)), day=5, year=2024, part=\"b\")"
      ],
      "metadata": {
        "id": "of3_Q0HTp_-q",
        "outputId": "19a8c479-66d9-4b8c-b89d-577ac7cfdb78",
        "colab": {
          "base_uri": "https://localhost:8080/"
        }
      },
      "execution_count": 23,
      "outputs": [
        {
          "output_type": "stream",
          "name": "stdout",
          "text": [
            "Part b already solved with same answer: 5273\n"
          ]
        }
      ]
    },
    {
      "cell_type": "markdown",
      "source": [
        "# Day 6"
      ],
      "metadata": {
        "id": "e3e7t1TN4cyc"
      }
    },
    {
      "cell_type": "code",
      "source": [
        "from itertools import cycle\n",
        "def day6_1(puzzle: list[str]) -> int:\n",
        "  directions = cycle([\n",
        "      (-1,0),\n",
        "      (0,1),\n",
        "      (1,0),\n",
        "      (0,-1)\n",
        "  ])\n",
        "\n",
        "  map = []\n",
        "  current = (0,0)\n",
        "  for row, line in enumerate(puzzle.splitlines()):\n",
        "    if \"^\" in line:\n",
        "      start = (row, line.find(\"^\"))\n",
        "    map.append(line)\n",
        "\n",
        "  def inside(map, position) -> bool:\n",
        "    row, col = position\n",
        "    return row >= 0 and row < len(map) \\\n",
        "      and col >= 0 and col < len(map[0])\n",
        "\n",
        "  visited = set()\n",
        "  current = start\n",
        "  direction = next(directions)\n",
        "\n",
        "  while True:\n",
        "    visited.add(current)\n",
        "    next_pos = current[0] + direction[0], current[1] + direction[1]\n",
        "    if not inside(map, next_pos):\n",
        "      break\n",
        "    if map[next_pos[0]][next_pos[1]] == \"#\":\n",
        "      direction = next(directions)\n",
        "      current = current[0] + direction[0], current[1] + direction[1]\n",
        "    else:\n",
        "      current = next_pos\n",
        "\n",
        "  return len(visited)\n",
        "\n",
        "\n",
        "day6_example = \"\"\"\\\n",
        "....#.....\n",
        ".........#\n",
        "..........\n",
        "..#.......\n",
        ".......#..\n",
        "..........\n",
        ".#..^.....\n",
        "........#.\n",
        "#.........\n",
        "......#...\n",
        "\"\"\"\n",
        "\n",
        "assert day6_1(day6_example) == 41"
      ],
      "metadata": {
        "id": "4dth2ZJLqXQ5"
      },
      "execution_count": 1,
      "outputs": []
    },
    {
      "cell_type": "code",
      "source": [
        "aocd.submit(day6_1(aocd.get_data(day=6, year=2024)), day=6, year=2024, part=\"a\")"
      ],
      "metadata": {
        "colab": {
          "base_uri": "https://localhost:8080/"
        },
        "id": "iO3RnTko4jsb",
        "outputId": "f03860df-83dd-4dd2-9327-77c324a7daf4"
      },
      "execution_count": 4,
      "outputs": [
        {
          "output_type": "stream",
          "name": "stdout",
          "text": [
            "Part a already solved with same answer: 4696\n"
          ]
        }
      ]
    },
    {
      "cell_type": "code",
      "source": [
        "from itertools import cycle\n",
        "from collections import defaultdict\n",
        "\n",
        "def rotate(pos: tuple[int, int]) -> tuple[int,int]:\n",
        "  return pos[1], -pos[0]\n",
        "\n",
        "def inside(map, position) -> bool:\n",
        "    row, col = position\n",
        "    return row >= 0 and row < len(map) \\\n",
        "      and col >= 0 and col < len(map[0])\n",
        "\n",
        "def day6_2(puzzle: list[str]) -> int:\n",
        "  map = []\n",
        "  current = (0,0)\n",
        "  for row, line in enumerate(puzzle.splitlines()):\n",
        "    if \"^\" in line:\n",
        "      start = (row, line.find(\"^\"))\n",
        "    map.append(list(line))\n",
        "\n",
        "  candidates = defaultdict(set)\n",
        "  current = start\n",
        "  direction = (-1, 0)\n",
        "\n",
        "  while True:\n",
        "    candidates[current].add(direction)\n",
        "    next_pos = current[0] + direction[0], current[1] + direction[1]\n",
        "    if not inside(map, next_pos):\n",
        "      break\n",
        "    if map[next_pos[0]][next_pos[1]] == \"#\":\n",
        "      direction = rotate(direction)\n",
        "      current = current[0] + direction[0], current[1] + direction[1]\n",
        "    else:\n",
        "      current = next_pos\n",
        "\n",
        "  print(f\"Länge candidates = {len(candidates)}\")\n",
        "  loopers = set()\n",
        "  for c in candidates:\n",
        "    visited = defaultdict(set)\n",
        "    directions = cycle(DIRECTIONS)\n",
        "    direction = next(directions)\n",
        "    current = start\n",
        "    map[c[0]][c[1]] = '#'\n",
        "    while True:\n",
        "      if direction in visited[current]:\n",
        "        loopers.add(current)\n",
        "        break\n",
        "      else:\n",
        "        visited[current].add(direction)\n",
        "      next_pos = current[0] + direction[0], current[1] + direction[1]\n",
        "      if not inside(map, next_pos):\n",
        "        break\n",
        "      if map[next_pos[0]][next_pos[1]] == '#':\n",
        "        direction = next(directions)\n",
        "        current = current[0] + direction[0], current[1] + direction[1]\n",
        "      else:\n",
        "        current = next_pos\n",
        "    map[c[0]][c[1]] = '.'\n",
        "\n",
        "  print(f\"Länge loopers = {len(loopers)}\")\n",
        "  return len(loopers)\n",
        "\n",
        "\n",
        "day6_example = \"\"\"\\\n",
        "....#.....\n",
        ".........#\n",
        "..........\n",
        "..#.......\n",
        ".......#..\n",
        "..........\n",
        ".#..^.....\n",
        "........#.\n",
        "#.........\n",
        "......#...\n",
        "\"\"\"\n",
        "\n",
        "assert day6_2(day6_example) == 6"
      ],
      "metadata": {
        "colab": {
          "base_uri": "https://localhost:8080/"
        },
        "id": "Ma_hxRt44_ZQ",
        "outputId": "7948eb36-63ec-43be-cb53-68ad9604ef9b"
      },
      "execution_count": 12,
      "outputs": [
        {
          "output_type": "stream",
          "name": "stdout",
          "text": [
            "Länge candidates = 71\n",
            "Länge loopers = 6\n"
          ]
        }
      ]
    },
    {
      "cell_type": "code",
      "source": [
        "aocd.submit(day6_2(aocd.get_data(day=6, year=2024)), day=6, year=2024, part=\"b\")"
      ],
      "metadata": {
        "colab": {
          "base_uri": "https://localhost:8080/"
        },
        "id": "IQeHO8lgrfxY",
        "outputId": "20c19d32-ceb5-49b9-bcce-4b8367334e6a"
      },
      "execution_count": 13,
      "outputs": [
        {
          "output_type": "stream",
          "name": "stdout",
          "text": [
            "Länge candidates = 9818\n",
            "Länge loopers = 435\n",
            "aocd will not submit that answer again. At 2024-12-07 05:43:21.367450-05:00 you've previously submitted 435 and the server responded with:\n",
            "\u001b[31mThat's not the right answer; your answer is too low.  If you're stuck, make sure you're using the full input data; there are also some general tips on the about page, or you can ask for hints on the subreddit.  Please wait one minute before trying again. [Return to Day 6]\u001b[0m\n"
          ]
        }
      ]
    },
    {
      "cell_type": "code",
      "source": [],
      "metadata": {
        "id": "ui5xEa7Ztg-N"
      },
      "execution_count": null,
      "outputs": []
    }
  ]
}